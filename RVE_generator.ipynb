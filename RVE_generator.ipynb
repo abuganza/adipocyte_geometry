{
 "cells": [
  {
   "cell_type": "code",
   "execution_count": 1,
   "metadata": {},
   "outputs": [],
   "source": [
    "import os\n",
    "import numpy as np\n",
    "import csv"
   ]
  },
  {
   "cell_type": "code",
   "execution_count": 2,
   "metadata": {},
   "outputs": [],
   "source": [
    "# Set the Neper path\n",
    "neper_path = \"/home/jbarsima/software/neper/bin\"\n",
    "os.environ[\"PATH\"] += os.pathsep + neper_path\n",
    "\n",
    "# Need to module load gcc gsl"
   ]
  },
  {
   "cell_type": "code",
   "execution_count": 3,
   "metadata": {},
   "outputs": [],
   "source": [
    "# Set the random seed for reproducibility\n",
    "np.random.seed(27)\n",
    "\n",
    "# Define the limits for each variable\n",
    "D_limits = (0.02, 0.14)\n",
    "Dstd_limits = (0.001, 0.02)\n",
    "S_limits = (0.05, 0.25)\n",
    "Sstd_limits = (0.001, 0.04)\n",
    "l0 = 0.5\n",
    "itermaxx = 30000\n",
    "\n",
    "# Generate random samples using Latin hypercube sampling\n",
    "n_samples = 7500  # change as desired\n",
    "samples = np.zeros((n_samples, 4))\n",
    "samples[:, 0] = np.linspace(D_limits[0], D_limits[1], n_samples) + np.random.uniform(0, 1/n_samples, n_samples)\n",
    "samples[:, 1] = np.linspace(Dstd_limits[0], Dstd_limits[1], n_samples) + np.random.uniform(0, 1/n_samples, n_samples)\n",
    "samples[:, 2] = np.linspace(S_limits[0], S_limits[1], n_samples) + np.random.uniform(0, 1/n_samples, n_samples)\n",
    "samples[:, 3] = np.linspace(Sstd_limits[0], Sstd_limits[1], n_samples) + np.random.uniform(0, 1/n_samples, n_samples)\n",
    "\n",
    "# Shuffle the samples to ensure randomness\n",
    "np.random.shuffle(samples)\n",
    "\n",
    "# Assign the variables to their respective samples\n",
    "D = samples[:, 0]\n",
    "Dstd = samples[:, 1]\n",
    "S = samples[:, 2]\n",
    "Sstd = samples[:, 3]\n",
    "\n",
    "# Save the samples to a CSV file\n",
    "with open('samples.csv', 'w', newline='') as csvfile:\n",
    "    writer = csv.writer(csvfile)\n",
    "    writer.writerow(['D', 'Dstd', 'S', 'Sstd'])\n",
    "    for i in range(n_samples):\n",
    "        writer.writerow([D[i], Dstd[i], S[i], Sstd[i]])\n",
    "\n",
    "# Call Neper for each sample\n",
    "for i in range(n_samples):\n",
    "    N = str(i+1)  # convert sample number to string\n",
    "    cmd1 = f\"neper -T -n from_morpho -morpho 'diameq:lognormal({D[i]},{Dstd[i]}),1-sphericity:lognormal({S[i]},{Sstd[i]})' -id 1 -periodicity all -domain 'cube({l0},{l0},{l0})' -morphooptistop itermax={itermaxx} -statcell vol,area -o RVE_{N}\"\n",
    "    os.system(cmd1)"
   ]
  },
  {
   "cell_type": "code",
   "execution_count": null,
   "metadata": {},
   "outputs": [],
   "source": []
  }
 ],
 "metadata": {
  "kernelspec": {
   "display_name": "Python 3",
   "language": "python",
   "name": "python3"
  },
  "language_info": {
   "codemirror_mode": {
    "name": "ipython",
    "version": 3
   },
   "file_extension": ".py",
   "mimetype": "text/x-python",
   "name": "python",
   "nbconvert_exporter": "python",
   "pygments_lexer": "ipython3",
   "version": "3.6.4"
  }
 },
 "nbformat": 4,
 "nbformat_minor": 2
}

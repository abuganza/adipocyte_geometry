{
 "cells": [
  {
   "cell_type": "code",
   "execution_count": 1,
   "metadata": {},
   "outputs": [
    {
     "name": "stdout",
     "output_type": "stream",
     "text": [
      "warning in stationary: failed to import cython module: falling back to numpy\n",
      "warning in coregionalize: failed to import cython module: falling back to numpy\n",
      "warning in choleskies: failed to import cython module: falling back to numpy\n"
     ]
    }
   ],
   "source": [
    "import pyDOE as pd\n",
    "import numpy as np\n",
    "import matplotlib.pyplot as plt\n",
    "import copy as cp\n",
    "import GPy\n",
    "import pickle\n",
    "from sklearn.model_selection import train_test_split\n",
    "from matplotlib.ticker import FormatStrFormatter\n",
    "import matplotlib.ticker as ticker"
   ]
  },
  {
   "cell_type": "code",
   "execution_count": 2,
   "metadata": {},
   "outputs": [],
   "source": [
    "# Plotting size\n",
    "plt.rc('xtick', labelsize=14) \n",
    "plt.rc('ytick', labelsize=14) "
   ]
  },
  {
   "cell_type": "code",
   "execution_count": 3,
   "metadata": {},
   "outputs": [],
   "source": [
    "def scale(col, min, max):\n",
    "    range = col.max() - col.min()\n",
    "    a = (col - col.min()) / range\n",
    "    return a * (max - min) + min\n",
    "\n",
    "def scalex(col, min, max, xmax, xmin):\n",
    "    range = xmax - xmin\n",
    "    a = (col - xmin) / range\n",
    "    return a * (max - min) + min\n",
    "\n",
    "def rescale(xntd,min,max,x):\n",
    "    xall = np.vstack((xntd,x))\n",
    "    xalls = np.zeros((xall.shape[0],xall.shape[1]))\n",
    "    \n",
    "    # Scale values between min and max\n",
    "    for i in range(xalls.shape[1]):\n",
    "        xalls[:,i] = scalex(xall[:,i],min,max,x[:,i].max(),x[:,i].min())\n",
    "        #xalls[:,i] = scale(xall[:,i],min,max)\n",
    "\n",
    "    xntds = np.zeros((xntd.shape[0],xntd.shape[1]))\n",
    "\n",
    "    for i in range(xntds.shape[1]):\n",
    "        xntds[:,i] = xalls[0:(xntd.shape[0]),i]\n",
    "        \n",
    "    return xntds\n",
    "    \n",
    "def checkBound(xntd,x):\n",
    "    for i in range(0,x.shape[1]):\n",
    "        if xntd[:,i].max() > x[:,i].max():\n",
    "            print(\"Max value for parameter in index %d out of training bounds.\"%(i))\n",
    "        if xntd[:,i].min() < x[:,i].min():\n",
    "            print(\"Min value for parameter in index %d out of training bounds.\"%(i))\n",
    "            "
   ]
  },
  {
   "cell_type": "markdown",
   "metadata": {},
   "source": [
    "## Load data"
   ]
  },
  {
   "cell_type": "code",
   "execution_count": 4,
   "metadata": {
    "scrolled": true
   },
   "outputs": [],
   "source": [
    "# # ===================================================== #\n",
    "# #                       Load data                       #\n",
    "# # ===================================================== #\n",
    "l0 = 0.2\n",
    "v0 = l0**3.\n",
    "loc = \"/home/jbarsima/Desktop/adip_size/\"\n",
    "#loc = \"/scratch/bell/jbarsima/adip_size/\"\n",
    "\n",
    "# Load deformed configuration\n",
    "X = np.loadtxt(loc+'RVE_Psi_1p15.csv', delimiter=',', unpack=True) # Material parameters probed\n",
    "X = X.transpose()\n",
    "\n",
    "# Load deformed + eps configuration\n",
    "Xplus = np.loadtxt(loc+'RVE_Psi_plus_1p15.csv', delimiter=',', unpack=True) # Material parameters probed\n",
    "Xplus = Xplus.transpose()\n",
    "\n",
    "\n",
    "# Load deformed - eps configuration\n",
    "Xminus = np.loadtxt(loc+'RVE_Psi_minus_1p15.csv', delimiter=',', unpack=True) # Material parameters probed\n",
    "Xminus = Xminus.transpose()\n",
    "\n",
    "\n",
    "param_n = 4\n",
    "\n",
    "#X: D, Dstd, 1-S, Sstd, Psi, Psi Vol, Psi Area, Psi edge, Volume, Cells\n",
    "\n",
    "x = X[:,0:param_n] #D, Dstd, S, Sstd\n",
    "\n",
    "x[:,2] = 1 - x[:,2] #Converting the value to sphericity (original value is 1 - sphericity)\n",
    "psi = X[:,4] #Psi total\n",
    "psi = psi.reshape(-1,1)\n",
    "Vf = X[:,-2].reshape(-1,1) #Actual final volume\n",
    "ncell = X[:,-1].reshape(-1,1)\n",
    "\n",
    "xplus = Xplus[:,0:4] #D, Dstd, S, Sstd\n",
    "xplus[:,2] = 1 - xplus[:,2] \n",
    "psi_plus = Xplus[:,4] #Psi plus total\n",
    "psi_plus = psi_plus.reshape(-1,1)\n",
    "ncell = Xplus[:,-1].reshape(-1,1)\n",
    "\n",
    "xminus = Xminus[:,0:4] #D, Dstd, S, Sstd\n",
    "xminus[:,2] = 1 - xminus[:,2] \n",
    "psi_minus = Xminus[:,4] #Psi minus total\n",
    "psi_minus = psi_minus.reshape(-1,1)\n",
    "Vf = Xminus[:,-2].reshape(-1,1) #Actual final volume\n",
    "ncell = Xminus[:,-1].reshape(-1,1)"
   ]
  },
  {
   "cell_type": "code",
   "execution_count": 5,
   "metadata": {},
   "outputs": [
    {
     "data": {
      "text/plain": [
       "[<matplotlib.lines.Line2D at 0x2ad25f0d8e80>]"
      ]
     },
     "execution_count": 5,
     "metadata": {},
     "output_type": "execute_result"
    },
    {
     "data": {
      "image/png": "[encoded data removed]",
      "text/plain": [
       "<matplotlib.figure.Figure at 0x2ad257070048>"
      ]
     },
     "metadata": {},
     "output_type": "display_data"
    }
   ],
   "source": [
    "plt.plot(x[:,0],x[:,2],'x')"
   ]
  },
  {
   "cell_type": "markdown",
   "metadata": {},
   "source": [
    "## Stress"
   ]
  },
  {
   "cell_type": "code",
   "execution_count": 6,
   "metadata": {
    "scrolled": true
   },
   "outputs": [
    {
     "data": {
      "text/plain": [
       "434"
      ]
     },
     "execution_count": 6,
     "metadata": {},
     "output_type": "execute_result"
    }
   ],
   "source": [
    "eps = 10.**-6\n",
    "Vi = 0.5**3\n",
    "#J = Vf/Vi\n",
    "#lam = J**(1./3.)\n",
    "lam = 1.15\n",
    "J = lam**3\n",
    "len_minus = len(psi_minus)\n",
    "dpsidlam = (psi_plus[:len_minus] - psi_minus)/(2*eps) #Central difference\n",
    "y = (J**-1)*lam*dpsidlam #Stress\n",
    "len(psi_minus)"
   ]
  },
  {
   "cell_type": "code",
   "execution_count": 7,
   "metadata": {},
   "outputs": [
    {
     "data": {
      "image/png": "[encoded data removed]",
      "text/plain": [
       "<matplotlib.figure.Figure at 0x2ad257082390>"
      ]
     },
     "metadata": {},
     "output_type": "display_data"
    },
    {
     "name": "stdout",
     "output_type": "stream",
     "text": [
      "3987.0\n",
      "D: 0.025741920251179825 0.13994479290763556\n",
      "Dstd: 0.001055707841638852 0.019973277181143518\n",
      "S: 0.7508203346601857 0.9495145156070691\n",
      "Sstd: 0.0010731567204250554 0.03998533270707109\n"
     ]
    }
   ],
   "source": [
    "plt.plot((ncell/0.5**3)**1,y,'o')\n",
    "plt.xlabel('Cell density [$cells/{mm^{3}}$]')\n",
    "plt.ylabel('Stress [MPa]')\n",
    "plt.show()\n",
    "\n",
    "print((ncell).max())\n",
    "print('D:',x[:,0].min(),x[:,0].max())\n",
    "print('Dstd:',x[:,1].min(),x[:,1].max())\n",
    "print('S:',x[:,2].min(),x[:,2].max())\n",
    "print('Sstd:',x[:,3].min(),x[:,3].max())"
   ]
  },
  {
   "cell_type": "markdown",
   "metadata": {},
   "source": [
    "## Clean data"
   ]
  },
  {
   "cell_type": "code",
   "execution_count": 8,
   "metadata": {},
   "outputs": [],
   "source": [
    "xy = np.hstack((x,y))\n",
    "# get a boolean mask of rows where the last column value is greater than 1\n",
    "mask = xy[:, -1] > 0.9\n",
    "# use boolean indexing to remove rows where the last column value is greater than 1\n",
    "x = cp.deepcopy(xy[~mask])\n",
    "\n",
    "yclean = x[:,-1]\n",
    "xclean = x[:,:-1]"
   ]
  },
  {
   "cell_type": "markdown",
   "metadata": {},
   "source": [
    "## Train GP"
   ]
  },
  {
   "cell_type": "code",
   "execution_count": 9,
   "metadata": {},
   "outputs": [
    {
     "name": "stderr",
     "output_type": "stream",
     "text": [
      " /apps/spack/brown/apps/anaconda/5.1.0-py36-gcc-4.8.5-5cfpkzk/lib/python3.6/site-packages/sklearn/model_selection/_split.py:2026: FutureWarning:From version 0.21, test_size will always complement train_size unless both are specified.\n"
     ]
    }
   ],
   "source": [
    "# Scale X values between a and b\n",
    "a = 0.\n",
    "b = 1.\n",
    "xs = np.zeros((xclean.shape[0],xclean.shape[1]))\n",
    "\n",
    "for i in range(xs.shape[1]):\n",
    "    xs[:,i] = scale(xclean[:,i],a,b)\n",
    "\n",
    "Xtrain, Xtest, ytrain, ytest = train_test_split(xclean, yclean, train_size=0.60, random_state=21)"
   ]
  },
  {
   "cell_type": "markdown",
   "metadata": {},
   "source": [
    "## GP"
   ]
  },
  {
   "cell_type": "code",
   "execution_count": 10,
   "metadata": {},
   "outputs": [
    {
     "data": {
      "application/vnd.jupyter.widget-view+json": {
       "model_id": "d0db692ab7a14a64a657fe562d1eaff1",
       "version_major": 2,
       "version_minor": 0
      },
      "text/html": [
       "<p>Failed to display Jupyter Widget of type <code>HBox</code>.</p>\n",
       "<p>\n",
       "  If you're reading this message in the Jupyter Notebook or JupyterLab Notebook, it may mean\n",
       "  that the widgets JavaScript is still loading. If this message persists, it\n",
       "  likely means that the widgets JavaScript library is either not installed or\n",
       "  not enabled. See the <a href=\"https://ipywidgets.readthedocs.io/en/stable/user_install.html\">Jupyter\n",
       "  Widgets Documentation</a> for setup instructions.\n",
       "</p>\n",
       "<p>\n",
       "  If you're reading this message in another frontend (for example, a static\n",
       "  rendering on GitHub or <a href=\"https://nbviewer.jupyter.org/\">NBViewer</a>),\n",
       "  it may mean that your frontend doesn't currently support widgets.\n",
       "</p>\n"
      ],
      "text/plain": [
       "HBox(children=(VBox(children=(IntProgress(value=0, max=1000), HTML(value=''))), Box(children=(HTML(value=''),))))"
      ]
     },
     "metadata": {},
     "output_type": "display_data"
    },
    {
     "name": "stdout",
     "output_type": "stream",
     "text": [
      "\n",
      "Name : GP regression\n",
      "Objective : -501.0677599947639\n",
      "Number of Parameters : 6\n",
      "Number of Optimization Parameters : 6\n",
      "Updates : True\n",
      "Parameters:\n",
      "  \u001b[1mGP_regression.         \u001b[0;0m  |                  value  |  constraints  |  priors\n",
      "  \u001b[1mrbf.variance           \u001b[0;0m  |     0.2863903771542566  |      +ve      |        \n",
      "  \u001b[1mrbf.lengthscale        \u001b[0;0m  |                   (4,)  |      +ve      |        \n",
      "  \u001b[1mGaussian_noise.variance\u001b[0;0m  |  0.0007937081354600359  |      +ve      |        \n"
     ]
    }
   ],
   "source": [
    "# RBF\n",
    "ls = 1\n",
    "kernel = GPy.kern.RBF(input_dim=xs.shape[1], ARD=True, lengthscale=[ls,ls,ls,ls]) #When using scaled values\n",
    "#print(k)\n",
    "\n",
    "# Set up model\n",
    "m = GPy.models.GPRegression(Xtrain,ytrain.reshape(-1,1),kernel,mean_function=None)\n",
    "#print(m_count)\n",
    "\n",
    "# Plot the unfit version\n",
    "#fig = m.plot()\n",
    "\n",
    "m.optimize(messages=True,max_f_eval=1000)\n",
    "#m.optimize_restarts(num_restarts = 10)\n",
    "print(m)"
   ]
  },
  {
   "cell_type": "code",
   "execution_count": 11,
   "metadata": {},
   "outputs": [
    {
     "data": {
      "text/html": [
       "<style type=\"text/css\">\n",
       ".tg  {padding:2px 3px;word-break:normal;border-collapse:collapse;border-spacing:0;border-color:#DCDCDC;margin:0px auto;width:100%;}\n",
       ".tg td{font-family:\"Courier New\", Courier, monospace !important;font-weight:bold;color:#444;background-color:#F7FDFA;border-style:solid;border-width:1px;overflow:hidden;word-break:normal;border-color:#DCDCDC;}\n",
       ".tg th{font-family:\"Courier New\", Courier, monospace !important;font-weight:normal;color:#fff;background-color:#26ADE4;border-style:solid;border-width:1px;overflow:hidden;word-break:normal;border-color:#DCDCDC;}\n",
       ".tg .tg-left{font-family:\"Courier New\", Courier, monospace !important;font-weight:normal;text-align:left;}\n",
       ".tg .tg-right{font-family:\"Courier New\", Courier, monospace !important;font-weight:normal;text-align:right;}\n",
       "</style>\n",
       "<table class=\"tg\">\n",
       "\n",
       "<tr>\n",
       "  <th><b>index</b></th>\n",
       "  <th><b>GP_regression.rbf.lengthscale</b></th>\n",
       "  <th><b>constraints</b></th><th><b>priors</b></th>\n",
       "</tr>\n",
       "<tr><td class=tg-left>  [0]  </td><td class=tg-right>                   0.05081821</td><td class=tg-left>    +ve    </td><td class=tg-left>      </td></tr>\n",
       "<tr><td class=tg-left>  [1]  </td><td class=tg-right>                   0.85965278</td><td class=tg-left>    +ve    </td><td class=tg-left>      </td></tr>\n",
       "<tr><td class=tg-left>  [2]  </td><td class=tg-right>                   0.38882846</td><td class=tg-left>    +ve    </td><td class=tg-left>      </td></tr>\n",
       "<tr><td class=tg-left>  [3]  </td><td class=tg-right>                   0.04998620</td><td class=tg-left>    +ve    </td><td class=tg-left>      </td></tr>"
      ],
      "text/plain": [
       "\u001b[1mGP_regression.rbf.lengthscale\u001b[0;0m:\n",
       "Param([0.05081821, 0.85965278, 0.38882846, 0.0499862 ])"
      ]
     },
     "execution_count": 11,
     "metadata": {},
     "output_type": "execute_result"
    }
   ],
   "source": [
    "m.kern.lengthscale\n",
    "#C = kernel.K(Xtest,Xtest)\n",
    "#plt.matshow(C)"
   ]
  },
  {
   "cell_type": "code",
   "execution_count": 12,
   "metadata": {},
   "outputs": [
    {
     "name": "stdout",
     "output_type": "stream",
     "text": [
      "0.6785836177383289\n"
     ]
    },
    {
     "data": {
      "text/plain": [
       "[<matplotlib.lines.Line2D at 0x2ad25f1c04a8>]"
      ]
     },
     "execution_count": 12,
     "metadata": {},
     "output_type": "execute_result"
    },
    {
     "data": {
      "image/png": "[encoded data removed]",
      "text/plain": [
       "<matplotlib.figure.Figure at 0x2ad25f1de940>"
      ]
     },
     "metadata": {},
     "output_type": "display_data"
    }
   ],
   "source": [
    "ypred,var = m.predict(Xtest)\n",
    "\n",
    "j = 0\n",
    "\n",
    "yp = ypred + 1.96*np.sqrt(var)\n",
    "ym = ypred - 1.96*np.sqrt(var)\n",
    "\n",
    "print(np.sqrt(np.sum(ypred-ytest)**2/len(ypred)))\n",
    "plt.plot(ytest,ytest,'-r')\n",
    "plt.plot(ytest,ypred,'o')\n",
    "#plt.xlim([0.1, 0.6])\n",
    "#plt.ylim([0.1, 0.6])\n",
    "#plt.plot(ypred,ypred,'-g')"
   ]
  },
  {
   "cell_type": "code",
   "execution_count": 13,
   "metadata": {},
   "outputs": [
    {
     "data": {
      "image/png": "[encoded data removed]",
      "text/plain": [
       "<matplotlib.figure.Figure at 0x2ad25f1de0f0>"
      ]
     },
     "metadata": {},
     "output_type": "display_data"
    }
   ],
   "source": [
    "# Define the input array Xtest\n",
    "p = 32\n",
    "Xcont = cp.deepcopy(Xtest[p,:])\n",
    "n = 0\n",
    "k = 2\n",
    "\n",
    "Ns = 25\n",
    "\n",
    "# Create a contour plot based on the model predictions for Xtest\n",
    "dx = np.linspace(a, b, Ns)\n",
    "dy = np.linspace(a, b, Ns)\n",
    "Xplot = np.linspace(xclean[:,n].min(),xclean[:,n].max(),Ns)\n",
    "Yplot = np.linspace(xclean[:,k].min(),xclean[:,k].max(),Ns)\n",
    "X, Y = np.meshgrid(dx, dy)\n",
    "DX, DY = np.meshgrid(Xplot, Yplot)\n",
    "Z = np.zeros((len(dx), len(dy)))\n",
    "\n",
    "for i in range(len(dx)):\n",
    "    for j in range(len(dy)):\n",
    "        Xcont[n] = Xplot[i]\n",
    "        Xcont[k] = Yplot[j]\n",
    "        #Xcont[n] = dx[i]\n",
    "        #Xcont[k] = dy[j]\n",
    "        ycontour, oo = m.predict(Xcont.reshape(1,4))\n",
    "        Z[i, j] = ycontour\n",
    "\n",
    "plt.contourf(DX**-0.5, DY, Z, cmap='plasma')\n",
    "cb = plt.colorbar(label='Stress [MPa]')\n",
    "cb.ax.yaxis.set_minor_formatter(ticker.NullFormatter())\n",
    "plt.xlabel('Cell size, $d^{-1/2}$ [$mm^{-1/2}$]')\n",
    "plt.ylabel('Sphericity')\n",
    "plt.show()"
   ]
  },
  {
   "cell_type": "code",
   "execution_count": 14,
   "metadata": {},
   "outputs": [
    {
     "data": {
      "image/png": "[encoded data removed]",
      "text/plain": [
       "<matplotlib.figure.Figure at 0x2ad26137afd0>"
      ]
     },
     "metadata": {},
     "output_type": "display_data"
    }
   ],
   "source": [
    "Dplot = np.linspace(xclean[:,0].min(),xclean[:,0].max(),Ns)\n",
    "XD_Plot = np.zeros((len(Dplot),4))\n",
    "Dstd_ = Xtest[p,1]\n",
    "S_ = Xtest[p,2]\n",
    "Sstd_ = Xtest[p,3]\n",
    "for i in range(len(XD_Plot)):\n",
    "    XD_Plot[i,0] = Dplot[i]\n",
    "    XD_Plot[i,1] = Dstd_\n",
    "    XD_Plot[i,2] = S_\n",
    "    XD_Plot[i,3] = Sstd_\n",
    "    \n",
    "S_pred,var = m.predict(XD_Plot)\n",
    "splus = S_pred+1.96*np.sqrt(var)\n",
    "sminus = S_pred-1.96*np.sqrt(var)\n",
    "plt.plot(XD_Plot[:,0]**-0.5,S_pred,'o')\n",
    "plt.fill_between(XD_Plot[:,0]**-0.5,splus[:,0],sminus[:,0],alpha=0.2,label='95% confidence interval')\n",
    "plt.xlabel('Cell size, $d^{-1/2}$ [$mm^{-1/2}]$')\n",
    "plt.ylabel('Stress [MPa]')\n",
    "#plt.legend()\n",
    "plt.show()"
   ]
  },
  {
   "cell_type": "code",
   "execution_count": 15,
   "metadata": {},
   "outputs": [
    {
     "data": {
      "image/png": "[encoded data removed]",
      "text/plain": [
       "<matplotlib.figure.Figure at 0x2ad26138d860>"
      ]
     },
     "metadata": {},
     "output_type": "display_data"
    }
   ],
   "source": [
    "Splot = np.linspace(xclean[:,2].min(),xclean[:,2].max(),Ns)\n",
    "XS_Plot = np.zeros((len(Splot),4))\n",
    "D_ = Xtest[p,0]\n",
    "Dstd_ = Xtest[p,1]\n",
    "Sstd_ = Xtest[p,3]\n",
    "for i in range(len(XS_Plot)):\n",
    "    XS_Plot[i,0] = D_\n",
    "    XS_Plot[i,1] = Dstd_\n",
    "    XS_Plot[i,2] = Splot[i]\n",
    "    XS_Plot[i,3] = Sstd_\n",
    "    \n",
    "S_pred,var = m.predict(XS_Plot)\n",
    "splus = S_pred+1.96*np.sqrt(var)\n",
    "sminus = S_pred-1.96*np.sqrt(var)\n",
    "plt.plot(XS_Plot[:,2],S_pred,'o')\n",
    "plt.fill_between(XS_Plot[:,2],splus[:,0],sminus[:,0],alpha=0.2,label='95% confidence interval')\n",
    "plt.xlabel('Sphericity')\n",
    "plt.ylabel('Stress [MPa]')\n",
    "#plt.legend()\n",
    "plt.show()"
   ]
  },
  {
   "cell_type": "code",
   "execution_count": null,
   "metadata": {},
   "outputs": [],
   "source": []
  }
 ],
 "metadata": {
  "kernelspec": {
   "display_name": "Python 3",
   "language": "python",
   "name": "python3"
  },
  "language_info": {
   "codemirror_mode": {
    "name": "ipython",
    "version": 3
   },
   "file_extension": ".py",
   "mimetype": "text/x-python",
   "name": "python",
   "nbconvert_exporter": "python",
   "pygments_lexer": "ipython3",
   "version": "3.6.4"
  }
 },
 "nbformat": 4,
 "nbformat_minor": 5
}

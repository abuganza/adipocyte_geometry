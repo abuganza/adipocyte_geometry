{
 "cells": [
  {
   "cell_type": "code",
   "execution_count": null,
   "metadata": {},
   "outputs": [],
   "source": [
    "import pyDOE as pd\n",
    "import numpy as np\n",
    "#from mpl_toolkits.mplot3d import axes3d\n",
    "import matplotlib.pyplot as plt\n",
    "import copy as cp\n",
    "import GPy\n",
    "import pickle\n",
    "from scipy.optimize import Bounds\n",
    "from scipy.optimize import minimize\n",
    "#import torch\n",
    "#import torch.nn as nn\n",
    "#import torch.optim as optim\n",
    "#import gptorch\n",
    "from sklearn.model_selection import train_test_split\n",
    "#import black_box as bb\n",
    "from matplotlib.ticker import FormatStrFormatter\n",
    "import matplotlib.ticker as ticker"
   ]
  },
  {
   "cell_type": "code",
   "execution_count": null,
   "metadata": {},
   "outputs": [],
   "source": [
    "# Plotting size\n",
    "plt.rc('xtick', labelsize=14) \n",
    "plt.rc('ytick', labelsize=14) "
   ]
  },
  {
   "cell_type": "code",
   "execution_count": null,
   "metadata": {},
   "outputs": [],
   "source": [
    "def scale(col, min, max):\n",
    "    range = col.max() - col.min()\n",
    "    a = (col - col.min()) / range\n",
    "    return a * (max - min) + min\n",
    "\n",
    "def scalex(col, min, max, xmax, xmin):\n",
    "    range = xmax - xmin\n",
    "    a = (col - xmin) / range\n",
    "    return a * (max - min) + min\n",
    "\n",
    "def rescale(xntd,min,max,x):\n",
    "    xall = np.vstack((xntd,x))\n",
    "    xalls = np.zeros((xall.shape[0],xall.shape[1]))\n",
    "    \n",
    "    # Scale values between min and max\n",
    "    for i in range(xalls.shape[1]):\n",
    "        xalls[:,i] = scalex(xall[:,i],min,max,x[:,i].max(),x[:,i].min())\n",
    "        #xalls[:,i] = scale(xall[:,i],min,max)\n",
    "\n",
    "    xntds = np.zeros((xntd.shape[0],xntd.shape[1]))\n",
    "\n",
    "    for i in range(xntds.shape[1]):\n",
    "        xntds[:,i] = xalls[0:(xntd.shape[0]),i]\n",
    "        \n",
    "    return xntds\n",
    "    \n",
    "def checkBound(xntd,x):\n",
    "    for i in range(0,x.shape[1]):\n",
    "        if xntd[:,i].max() > x[:,i].max():\n",
    "            print(\"Max value for parameter in index %d out of training bounds.\"%(i))\n",
    "        if xntd[:,i].min() < x[:,i].min():\n",
    "            print(\"Min value for parameter in index %d out of training bounds.\"%(i))\n",
    "            "
   ]
  },
  {
   "cell_type": "markdown",
   "metadata": {},
   "source": [
    "## Load data"
   ]
  },
  {
   "cell_type": "code",
   "execution_count": null,
   "metadata": {
    "scrolled": true
   },
   "outputs": [],
   "source": [
    "# # ===================================================== #\n",
    "# #                       Load data                       #\n",
    "# # ===================================================== #\n",
    "l0 = 0.2\n",
    "v0 = l0**3.\n",
    "loc = \"/scratch/brown/jbarsima/RVE/RVE_adip_size/\"\n",
    "\n",
    "# Load deformed configuration\n",
    "X = np.loadtxt(loc+'RVE_Psi.csv', delimiter=',', unpack=True) # Material parameters probed\n",
    "X = X.transpose()\n",
    "\n",
    "# Load deformed + eps configuration\n",
    "Xplus = np.loadtxt(loc+'RVE_Psi_plus.csv', delimiter=',', unpack=True) # Material parameters probed\n",
    "Xplus = Xplus.transpose()\n",
    "\n",
    "\n",
    "# Load deformed - eps configuration\n",
    "Xminus = np.loadtxt(loc+'RVE_Psi_minus.csv', delimiter=',', unpack=True) # Material parameters probed\n",
    "Xminus = Xminus.transpose()\n",
    "\n",
    "\n",
    "param_n = 4\n",
    "\n",
    "#X: D, Dstd, 1-S, Sstd, Psi, Psi Vol, Psi Area, Psi edge, Volume, Cells\n",
    "\n",
    "x = X[:,0:param_n] #D, Dstd, S, Sstd\n",
    "\n",
    "x[:,2] = 1 - x[:,2] #Converting the value to sphericity (original value is 1 - sphericity)\n",
    "psi = X[:,4] #Psi total\n",
    "psi = psi.reshape(-1,1)\n",
    "Vf = X[:,-2].reshape(-1,1) #Actual final volume\n",
    "ncell = X[:,-1].reshape(-1,1)\n",
    "\n",
    "xplus = Xplus[:,0:4] #D, Dstd, S, Sstd\n",
    "xplus[:,2] = 1 - xplus[:,2] \n",
    "psi_plus = Xplus[:,4] #Psi plus total\n",
    "psi_plus = psi_plus.reshape(-1,1)\n",
    "ncell = Xplus[:,-1].reshape(-1,1)\n",
    "\n",
    "xminus = Xminus[:,0:4] #D, Dstd, S, Sstd\n",
    "xminus[:,2] = 1 - xminus[:,2] \n",
    "psi_minus = Xminus[:,4] #Psi minus total\n",
    "psi_minus = psi_minus.reshape(-1,1)\n",
    "Vf = Xminus[:,-2].reshape(-1,1) #Actual final volume\n",
    "ncell = Xminus[:,-1].reshape(-1,1)"
   ]
  },
  {
   "cell_type": "code",
   "execution_count": null,
   "metadata": {},
   "outputs": [],
   "source": [
    "# Load deformed - eps configuration\n",
    "samples = np.loadtxt('/scratch/brown/jbarsima/RVE/RVE_adip_size/id1/samples.csv', delimiter=',', unpack=True) # Material parameters probed\n",
    "samples = samples.transpose()"
   ]
  },
  {
   "cell_type": "code",
   "execution_count": null,
   "metadata": {},
   "outputs": [],
   "source": [
    "plt.plot(samples[:,1],samples[:,2])"
   ]
  },
  {
   "cell_type": "markdown",
   "metadata": {},
   "source": [
    "## Stress"
   ]
  },
  {
   "cell_type": "code",
   "execution_count": null,
   "metadata": {
    "scrolled": true
   },
   "outputs": [],
   "source": [
    "eps = 10.**-6\n",
    "Vi = 0.5**3\n",
    "#J = Vf/Vi\n",
    "#lam = J**(1./3.)\n",
    "lam = 1.15\n",
    "J = lam**3\n",
    "len_minus = len(psi_minus)\n",
    "dpsidlam = (psi_plus[:len_minus] - psi_minus)/(2*eps) #Central difference\n",
    "y = J**-1*lam*dpsidlam #Stress\n",
    "y"
   ]
  },
  {
   "cell_type": "code",
   "execution_count": null,
   "metadata": {},
   "outputs": [],
   "source": [
    "plt.plot((ncell/0.5**3)**1,y,'o')\n",
    "plt.xlabel('Cell density [$(cells/{mm^{3}})^{0.5}$]')\n",
    "plt.ylabel('Stress [MPa]')\n",
    "plt.show()\n",
    "\n",
    "plt.plot(xminus[:,0]**-0.5,y,'o')\n",
    "plt.xlabel('Cell size, $d^{-0.5}$ [$mm^{-0.5}$]')\n",
    "plt.ylabel('Stress [MPa]')\n",
    "plt.show()\n",
    "\n",
    "print((ncell).max())\n",
    "print(np.mean(ncell/0.5**3))"
   ]
  },
  {
   "cell_type": "markdown",
   "metadata": {},
   "source": [
    "## Train GP"
   ]
  },
  {
   "cell_type": "code",
   "execution_count": null,
   "metadata": {},
   "outputs": [],
   "source": [
    "# Scale X values between a and b\n",
    "a = 0.\n",
    "b = 1.\n",
    "xs = np.zeros((x.shape[0],x.shape[1]))\n",
    "\n",
    "for i in range(xs.shape[1]):\n",
    "    xs[:,i] = scale(x[:,i],a,b)\n",
    "\n",
    "Xtrain, Xtest, ytrain, ytest = train_test_split(xs, y, train_size=0.60, random_state=27)"
   ]
  },
  {
   "cell_type": "markdown",
   "metadata": {},
   "source": [
    "## GP"
   ]
  },
  {
   "cell_type": "code",
   "execution_count": null,
   "metadata": {},
   "outputs": [],
   "source": [
    "# RBF\n",
    "ls = 0.5\n",
    "kernel = GPy.kern.RBF(input_dim=xs.shape[1], ARD=True, lengthscale=[ls,ls,ls,ls]) #When using scaled values\n",
    "#print(k)\n",
    "\n",
    "# Set up model\n",
    "m = GPy.models.GPRegression(Xtrain,ytrain,kernel,mean_function=None)\n",
    "#print(m_count)\n",
    "\n",
    "# Plot the unfit version\n",
    "#fig = m.plot()\n",
    "\n",
    "m.optimize(messages=True,max_f_eval=1000)\n",
    "#m.optimize_restarts(num_restarts = 10)\n",
    "print(m)"
   ]
  },
  {
   "cell_type": "code",
   "execution_count": null,
   "metadata": {},
   "outputs": [],
   "source": [
    "m.kern.lengthscale\n",
    "#C = kernel.K(Xtest,Xtest)\n",
    "#plt.matshow(C)"
   ]
  },
  {
   "cell_type": "code",
   "execution_count": null,
   "metadata": {},
   "outputs": [],
   "source": [
    "ypred,var = m.predict(Xtest)\n",
    "\n",
    "j = 0\n",
    "\n",
    "yp = ypred + 1.96*np.sqrt(var)\n",
    "ym = ypred - 1.96*np.sqrt(var)\n",
    "\n",
    "print(np.sqrt(np.sum(ypred-ytest)**2/len(ypred)))\n"
   ]
  },
  {
   "cell_type": "code",
   "execution_count": null,
   "metadata": {},
   "outputs": [],
   "source": [
    "# Define the input array Xtest\n",
    "Xcont = cp.deepcopy(Xtest[6,:])\n",
    "n = 0\n",
    "k = 2\n",
    "\n",
    "Ns = 30\n",
    "\n",
    "# Create a contour plot based on the model predictions for Xtest\n",
    "dx = np.linspace(a, b, Ns)\n",
    "dy = np.linspace(a, b, Ns)\n",
    "Xplot = np.linspace(x[:,n].min(),x[:,n].max(),Ns)\n",
    "Yplot = np.linspace(x[:,k].min(),x[:,k].max(),Ns)\n",
    "X, Y = np.meshgrid(dx, dy)\n",
    "DX, DY = np.meshgrid(Xplot, Yplot)\n",
    "Z = np.zeros((len(dx), len(dy)))\n",
    "\n",
    "for i in range(len(dx)):\n",
    "    for j in range(len(dy)):\n",
    "        #Xcont[n] = Xplot[i]\n",
    "        #Xcont[k] = Yplot[j]\n",
    "        Xcont[n] = dx[i]\n",
    "        Xcont[k] = dy[j]\n",
    "        ycontour, oo = m.predict(Xcont.reshape(1,4))\n",
    "        Z[i, j] = ycontour\n",
    "\n",
    "plt.contourf(DX, DY, Z, cmap='plasma')\n",
    "cb = plt.colorbar(format=ticker.LogFormatterSciNotation(), label='Stress [MPa]')\n",
    "cb.ax.yaxis.set_minor_formatter(ticker.NullFormatter())\n",
    "plt.xlabel('Diameter')\n",
    "plt.ylabel('Sphericity')\n",
    "plt.show()"
   ]
  },
  {
   "cell_type": "code",
   "execution_count": null,
   "metadata": {},
   "outputs": [],
   "source": [
    "Xcont"
   ]
  },
  {
   "cell_type": "code",
   "execution_count": null,
   "metadata": {},
   "outputs": [],
   "source": [
    "Xtest[1,:]"
   ]
  },
  {
   "cell_type": "code",
   "execution_count": null,
   "metadata": {},
   "outputs": [],
   "source": []
  }
 ],
 "metadata": {
  "kernelspec": {
   "display_name": "Python 3",
   "language": "python",
   "name": "python3"
  },
  "language_info": {
   "codemirror_mode": {
    "name": "ipython",
    "version": 3
   },
   "file_extension": ".py",
   "mimetype": "text/x-python",
   "name": "python",
   "nbconvert_exporter": "python",
   "pygments_lexer": "ipython3",
   "version": "3.6.4"
  }
 },
 "nbformat": 4,
 "nbformat_minor": 5
}
